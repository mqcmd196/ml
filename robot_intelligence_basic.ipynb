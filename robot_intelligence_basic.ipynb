{
 "cells": [
  {
   "cell_type": "code",
   "execution_count": 1,
   "metadata": {
    "scrolled": true
   },
   "outputs": [],
   "source": [
    "from ml.nn import *\n",
    "from datasets.dataset import load_mnist\n",
    "import matplotlib.pyplot as plt"
   ]
  },
  {
   "cell_type": "markdown",
   "metadata": {},
   "source": [
    "### MNISTデータセットの表示"
   ]
  },
  {
   "cell_type": "code",
   "execution_count": 2,
   "metadata": {},
   "outputs": [],
   "source": [
    "(x_train, t_train), (x_test, t_test) = load_mnist(one_hot=False)"
   ]
  },
  {
   "cell_type": "code",
   "execution_count": 3,
   "metadata": {},
   "outputs": [],
   "source": [
    "img = np.reshape(x_train[1], (28, 28))"
   ]
  },
  {
   "cell_type": "code",
   "execution_count": 4,
   "metadata": {
    "scrolled": false
   },
   "outputs": [
    {
     "data": {
      "image/png": "[encoded data removed]",
      "text/plain": [
       "<Figure size 432x288 with 1 Axes>"
      ]
     },
     "metadata": {},
     "output_type": "display_data"
    }
   ],
   "source": [
    "plt.imshow(img, cmap=\"gray\")\n",
    "plt.show()"
   ]
  },
  {
   "cell_type": "markdown",
   "metadata": {},
   "source": [
    "### 3層ニューラルネットワークの実装"
   ]
  },
  {
   "cell_type": "code",
   "execution_count": 5,
   "metadata": {},
   "outputs": [],
   "source": [
    "input_size = 784\n",
    "output_size = 10\n",
    "middle_layer_size = 50\n",
    "lr = 0.001\n",
    "optimizer = 'Adam'"
   ]
  },
  {
   "cell_type": "code",
   "execution_count": 6,
   "metadata": {},
   "outputs": [],
   "source": [
    "model = Sequential()\n",
    "model.addlayer(Linear(input_size, middle_layer_size, optimizer=optimizer, lr=lr))\n",
    "model.addlayer(ReLU(optimizer=optimizer, lr=lr))\n",
    "model.addlayer(Linear(middle_layer_size, middle_layer_size, optimizer=optimizer, lr=lr))\n",
    "model.addlayer(ReLU(optimizer=optimizer, lr=lr))\n",
    "model.addlayer(Linear(middle_layer_size, output_size, optimizer=optimizer, lr=lr))\n",
    "network = Classifier(model)"
   ]
  },
  {
   "cell_type": "code",
   "execution_count": 7,
   "metadata": {},
   "outputs": [],
   "source": [
    "batch_size = 100\n",
    "epoch = 30\n",
    "n_train = x_train.shape[0]\n",
    "n_test = x_test.shape[0]"
   ]
  },
  {
   "cell_type": "code",
   "execution_count": 8,
   "metadata": {},
   "outputs": [],
   "source": [
    "epoch_list = []\n",
    "train_loss_list = []\n",
    "train_acc_list = []\n",
    "test_loss_list = []\n",
    "test_acc_list = []"
   ]
  },
  {
   "cell_type": "code",
   "execution_count": 9,
   "metadata": {
    "scrolled": true
   },
   "outputs": [
    {
     "name": "stdout",
     "output_type": "stream",
     "text": [
      "test, loss 0.224335, acc 0.933500\n",
      "test, loss 0.186759, acc 0.944200\n",
      "test, loss 0.167228, acc 0.948800\n",
      "test, loss 0.149842, acc 0.954300\n",
      "test, loss 0.137752, acc 0.957400\n",
      "test, loss 0.127335, acc 0.961200\n",
      "test, loss 0.125046, acc 0.962100\n",
      "test, loss 0.114381, acc 0.965500\n",
      "test, loss 0.111155, acc 0.966100\n",
      "test, loss 0.110955, acc 0.966100\n",
      "test, loss 0.107572, acc 0.968600\n",
      "test, loss 0.103054, acc 0.968300\n",
      "test, loss 0.104175, acc 0.966900\n",
      "test, loss 0.102466, acc 0.969500\n",
      "test, loss 0.097918, acc 0.969800\n",
      "test, loss 0.098298, acc 0.969200\n",
      "test, loss 0.095315, acc 0.971300\n",
      "test, loss 0.096329, acc 0.970400\n",
      "test, loss 0.096499, acc 0.970500\n",
      "test, loss 0.094565, acc 0.971300\n",
      "test, loss 0.100489, acc 0.970200\n",
      "test, loss 0.095331, acc 0.971400\n",
      "test, loss 0.095352, acc 0.972500\n",
      "test, loss 0.094254, acc 0.972700\n",
      "test, loss 0.099493, acc 0.970400\n",
      "test, loss 0.097102, acc 0.971900\n",
      "test, loss 0.096848, acc 0.973300\n",
      "test, loss 0.096201, acc 0.973000\n",
      "test, loss 0.099815, acc 0.971500\n",
      "test, loss 0.102475, acc 0.971000\n"
     ]
    }
   ],
   "source": [
    "for e in range(epoch):\n",
    "#     print('epoch %d'%(e+1)\n",
    "    acctrain = 0\n",
    "    losstrain = 0\n",
    "    randinds = np.random.permutation(n_train)\n",
    "    for it in range(0, n_train, batch_size):\n",
    "        ind = randinds[it:it+batch_size]\n",
    "        x = x_train[ind]\n",
    "        t = t_train[ind]\n",
    "        loss, acc = network.update(x, t)\n",
    "        acctrain += int(acc * batch_size) \n",
    "        losstrain += loss\n",
    "    acctrain /= (1.0 * n_train)\n",
    "    losstrain /= (n_train // batch_size)\n",
    "    \n",
    "#     print('train, loss %f, acc %f'%(train_loss, train_acc))\n",
    "\n",
    "    acctest = 0\n",
    "    losstest = 0\n",
    "    for it in range(0, n_test, batch_size):\n",
    "        x = x_test[it:it+batch_size]\n",
    "        t = t_test[it:it+batch_size]\n",
    "        loss, acc = network.predict(x, t)\n",
    "        acctest += int(acc * batch_size)\n",
    "        losstest += loss\n",
    "    acctest /= (1.0 * n_test)\n",
    "    losstest /= (n_test // batch_size)\n",
    "    print('test, loss %f, acc %f'%(losstest, acctest))\n",
    "    \n",
    "    epoch_list.append(e+1)\n",
    "    train_loss_list.append(losstrain)\n",
    "    train_acc_list.append(acctrain)\n",
    "    test_loss_list.append(losstest)\n",
    "    test_acc_list.append(acctest)"
   ]
  },
  {
   "cell_type": "code",
   "execution_count": 10,
   "metadata": {},
   "outputs": [
    {
     "data": {
      "image/png": "[encoded data removed]",
      "text/plain": [
       "<Figure size 576x288 with 2 Axes>"
      ]
     },
     "metadata": {},
     "output_type": "display_data"
    }
   ],
   "source": [
    "fig = plt.figure(figsize=(8, 4))\n",
    "loss_graph = fig.add_subplot(1, 2, 1)\n",
    "acc_graph = fig.add_subplot(1, 2, 2)\n",
    "loss_graph.set_xlabel('epoch')\n",
    "loss_graph.set_ylabel('loss')\n",
    "acc_graph.set_xlabel('epoch')\n",
    "acc_graph.set_ylabel('accuracy')\n",
    "\n",
    "loss_graph.plot(epoch_list, train_loss_list, label='train')\n",
    "loss_graph.plot(epoch_list, test_loss_list, label='test')\n",
    "loss_graph.legend()\n",
    "\n",
    "acc_graph.plot(epoch_list, train_acc_list, label='train')\n",
    "acc_graph.plot(epoch_list, test_acc_list, label='test')\n",
    "acc_graph.legend()\n",
    "\n",
    "plt.subplots_adjust(wspace=0.4, hspace=0.6)\n",
    "plt.savefig('nn_basic')"
   ]
  },
  {
   "cell_type": "code",
   "execution_count": null,
   "metadata": {},
   "outputs": [],
   "source": []
  }
 ],
 "metadata": {
  "kernelspec": {
   "display_name": "Python 3",
   "language": "python",
   "name": "python3"
  },
  "language_info": {
   "codemirror_mode": {
    "name": "ipython",
    "version": 3
   },
   "file_extension": ".py",
   "mimetype": "text/x-python",
   "name": "python",
   "nbconvert_exporter": "python",
   "pygments_lexer": "ipython3",
   "version": "3.6.9"
  }
 },
 "nbformat": 4,
 "nbformat_minor": 2
}

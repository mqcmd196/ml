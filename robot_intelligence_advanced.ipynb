{
 "cells": [
  {
   "cell_type": "code",
   "execution_count": 9,
   "metadata": {},
   "outputs": [],
   "source": [
    "from ml.nn import *\n",
    "from datasets.dataset import load_mnist\n",
    "import matplotlib.pyplot as plt\n",
    "import numpy as np\n",
    "from numpy.random import *"
   ]
  },
  {
   "cell_type": "code",
   "execution_count": 10,
   "metadata": {},
   "outputs": [],
   "source": [
    "(x_train, t_train), (x_test, t_test) = load_mnist(one_hot=False)"
   ]
  },
  {
   "cell_type": "markdown",
   "metadata": {},
   "source": [
    "#### 隠れ層の総数"
   ]
  },
  {
   "cell_type": "code",
   "execution_count": 11,
   "metadata": {},
   "outputs": [],
   "source": [
    "input_size = 784\n",
    "output_size = 10\n",
    "middle_layer_size = 50\n",
    "lr = 0.001\n",
    "optimizer = 'Adam'"
   ]
  },
  {
   "cell_type": "code",
   "execution_count": 12,
   "metadata": {},
   "outputs": [],
   "source": [
    "model = Sequential()\n",
    "model.addlayer(Linear(input_size, middle_layer_size, optimizer=optimizer, lr=lr))\n",
    "model.addlayer(ReLU(optimizer=optimizer, lr=lr))\n",
    "model.addlayer(Linear(middle_layer_size, middle_layer_size, optimizer=optimizer, lr=lr))\n",
    "model.addlayer(ReLU(optimizer=optimizer, lr=lr))\n",
    "model.addlayer(Linear(middle_layer_size, middle_layer_size, optimizer=optimizer, lr=lr))\n",
    "model.addlayer(ReLU(optimizer=optimizer, lr=lr))\n",
    "model.addlayer(Linear(middle_layer_size, output_size, optimizer=optimizer, lr=lr))\n",
    "network = Classifier(model)"
   ]
  },
  {
   "cell_type": "code",
   "execution_count": 13,
   "metadata": {},
   "outputs": [],
   "source": [
    "batch_size = 100\n",
    "epoch = 30\n",
    "n_train = x_train.shape[0]\n",
    "n_test = x_test.shape[0]"
   ]
  },
  {
   "cell_type": "code",
   "execution_count": 14,
   "metadata": {},
   "outputs": [],
   "source": [
    "epoch_list = []\n",
    "train_loss_list = []\n",
    "train_acc_list = []\n",
    "test_loss_list = []\n",
    "test_acc_list = []"
   ]
  },
  {
   "cell_type": "code",
   "execution_count": 15,
   "metadata": {},
   "outputs": [
    {
     "name": "stdout",
     "output_type": "stream",
     "text": [
      "test, loss 0.213216, acc 0.938700\n",
      "test, loss 0.169159, acc 0.951300\n",
      "test, loss 0.151898, acc 0.953700\n",
      "test, loss 0.133831, acc 0.960100\n",
      "test, loss 0.121603, acc 0.963000\n",
      "test, loss 0.116454, acc 0.964200\n",
      "test, loss 0.115834, acc 0.964500\n",
      "test, loss 0.106172, acc 0.967300\n",
      "test, loss 0.099538, acc 0.968500\n",
      "test, loss 0.098244, acc 0.968300\n",
      "test, loss 0.103665, acc 0.968900\n",
      "test, loss 0.092763, acc 0.970600\n",
      "test, loss 0.090601, acc 0.971600\n",
      "test, loss 0.088975, acc 0.972200\n",
      "test, loss 0.088738, acc 0.973400\n",
      "test, loss 0.089621, acc 0.971300\n",
      "test, loss 0.100434, acc 0.968700\n",
      "test, loss 0.089421, acc 0.972700\n",
      "test, loss 0.090586, acc 0.971700\n",
      "test, loss 0.090356, acc 0.972500\n",
      "test, loss 0.085977, acc 0.973400\n",
      "test, loss 0.086932, acc 0.974600\n",
      "test, loss 0.089816, acc 0.973200\n",
      "test, loss 0.090744, acc 0.973000\n",
      "test, loss 0.086283, acc 0.974600\n",
      "test, loss 0.093386, acc 0.971700\n",
      "test, loss 0.091367, acc 0.973400\n",
      "test, loss 0.095033, acc 0.973800\n",
      "test, loss 0.091322, acc 0.973900\n",
      "test, loss 0.099672, acc 0.973300\n"
     ]
    }
   ],
   "source": [
    "for e in range(epoch):\n",
    "#     print('epoch %d'%(e+1)\n",
    "    acctrain = 0\n",
    "    losstrain = 0\n",
    "    randinds = np.random.permutation(n_train)\n",
    "    for it in range(0, n_train, batch_size):\n",
    "        ind = randinds[it:it+batch_size]\n",
    "        x = x_train[ind]\n",
    "        t = t_train[ind]\n",
    "        loss, acc = network.update(x, t)\n",
    "        acctrain += int(acc * batch_size) \n",
    "        losstrain += loss\n",
    "    acctrain /= (1.0 * n_train)\n",
    "    losstrain /= (n_train // batch_size)\n",
    "    \n",
    "#     print('train, loss %f, acc %f'%(train_loss, train_acc))\n",
    "\n",
    "    acctest = 0\n",
    "    losstest = 0\n",
    "    for it in range(0, n_test, batch_size):\n",
    "        x = x_test[it:it+batch_size]\n",
    "        t = t_test[it:it+batch_size]\n",
    "        loss, acc = network.predict(x, t)\n",
    "        acctest += int(acc * batch_size)\n",
    "        losstest += loss\n",
    "    acctest /= (1.0 * n_test)\n",
    "    losstest /= (n_test // batch_size)\n",
    "    print('test, loss %f, acc %f'%(losstest, acctest))\n",
    "    \n",
    "    epoch_list.append(e+1)\n",
    "    train_loss_list.append(losstrain)\n",
    "    train_acc_list.append(acctrain)\n",
    "    test_loss_list.append(losstest)\n",
    "    test_acc_list.append(acctest)"
   ]
  },
  {
   "cell_type": "code",
   "execution_count": 16,
   "metadata": {},
   "outputs": [
    {
     "data": {
      "image/png": "[encoded data removed]",
      "text/plain": [
       "<Figure size 576x288 with 2 Axes>"
      ]
     },
     "metadata": {},
     "output_type": "display_data"
    }
   ],
   "source": [
    "fig = plt.figure(figsize=(8, 4))\n",
    "loss_graph = fig.add_subplot(1, 2, 1)\n",
    "acc_graph = fig.add_subplot(1, 2, 2)\n",
    "loss_graph.set_xlabel('epoch')\n",
    "loss_graph.set_ylabel('loss')\n",
    "acc_graph.set_xlabel('epoch')\n",
    "acc_graph.set_ylabel('accuracy')\n",
    "\n",
    "loss_graph.plot(epoch_list, train_loss_list, label='train')\n",
    "loss_graph.plot(epoch_list, test_loss_list, label='test')\n",
    "loss_graph.legend()\n",
    "\n",
    "acc_graph.plot(epoch_list, train_acc_list, label='train')\n",
    "acc_graph.plot(epoch_list, test_acc_list, label='test')\n",
    "acc_graph.legend()\n",
    "\n",
    "plt.subplots_adjust(wspace=0.4, hspace=0.6)\n",
    "plt.savefig('nn_add_layer.png')"
   ]
  },
  {
   "cell_type": "markdown",
   "metadata": {},
   "source": [
    "#### 最適化手法による差異"
   ]
  },
  {
   "cell_type": "code",
   "execution_count": 38,
   "metadata": {},
   "outputs": [],
   "source": [
    "input_size = 784\n",
    "output_size = 10\n",
    "middle_layer_size = 50\n",
    "lr = 0.001"
   ]
  },
  {
   "cell_type": "code",
   "execution_count": 39,
   "metadata": {},
   "outputs": [],
   "source": [
    "networks = []\n",
    "optimizers = ['Momentum SGD', 'AdaGrad', 'Adam']"
   ]
  },
  {
   "cell_type": "code",
   "execution_count": 40,
   "metadata": {},
   "outputs": [],
   "source": [
    "for i in range(3):\n",
    "    optimizer = optimizers[i]\n",
    "    model = Sequential()\n",
    "    model.addlayer(Linear(input_size, middle_layer_size, optimizer=optimizer, lr=lr))\n",
    "    model.addlayer(ReLU(optimizer=optimizer, lr=lr))\n",
    "    model.addlayer(Linear(middle_layer_size, middle_layer_size, optimizer=optimizer, lr=lr))\n",
    "    model.addlayer(ReLU(optimizer=optimizer, lr=lr))\n",
    "    model.addlayer(Linear(middle_layer_size, output_size, optimizer=optimizer, lr=lr))\n",
    "    network = Classifier(model)\n",
    "    networks.append(network)"
   ]
  },
  {
   "cell_type": "code",
   "execution_count": 41,
   "metadata": {},
   "outputs": [],
   "source": [
    "batch_size = 100\n",
    "epoch = 30\n",
    "n_train = x_train.shape[0]\n",
    "n_test = x_test.shape[0]"
   ]
  },
  {
   "cell_type": "code",
   "execution_count": 42,
   "metadata": {},
   "outputs": [],
   "source": [
    "train_loss_lists = []\n",
    "test_loss_lists = []"
   ]
  },
  {
   "cell_type": "code",
   "execution_count": 43,
   "metadata": {},
   "outputs": [],
   "source": [
    "for i in range(3):\n",
    "    train_loss_list = []\n",
    "    test_loss_list = []\n",
    "    for e in range(epoch):\n",
    "        acctrain = 0\n",
    "        losstrain = 0\n",
    "        randinds = np.random.permutation(n_train)\n",
    "        for it in range(0, n_train, batch_size):\n",
    "            ind = randinds[it:it+batch_size]\n",
    "            x = x_train[ind]\n",
    "            t = t_train[ind]\n",
    "            loss, acc = networks[i].update(x, t)\n",
    "            acctrain += int(acc * batch_size) \n",
    "            losstrain += loss\n",
    "        acctrain /= (1.0 * n_train)\n",
    "        losstrain /= (n_train // batch_size)\n",
    "        train_loss_list.append(losstrain)\n",
    "\n",
    "        acctest = 0\n",
    "        losstest = 0\n",
    "        for it in range(0, n_test, batch_size):\n",
    "            x = x_test[it:it+batch_size]\n",
    "            t = t_test[it:it+batch_size]\n",
    "            loss, acc = networks[i].predict(x, t)\n",
    "            acctest += int(acc * batch_size)\n",
    "            losstest += loss\n",
    "        acctest /= (1.0 * n_test)\n",
    "        losstest /= (n_test // batch_size)\n",
    "        test_loss_list.append(losstest)\n",
    "    train_loss_lists.append(train_loss_list)\n",
    "    test_loss_lists.append(test_loss_list)"
   ]
  },
  {
   "cell_type": "code",
   "execution_count": 44,
   "metadata": {},
   "outputs": [],
   "source": [
    "epoch_list = [i+1 for i in range(30)]"
   ]
  },
  {
   "cell_type": "code",
   "execution_count": 45,
   "metadata": {},
   "outputs": [
    {
     "data": {
      "image/png": "[encoded data removed]",
      "text/plain": [
       "<Figure size 720x288 with 2 Axes>"
      ]
     },
     "metadata": {},
     "output_type": "display_data"
    }
   ],
   "source": [
    "fig = plt.figure(figsize=(10, 4))\n",
    "\n",
    "trainloss_graph = fig.add_subplot(1, 2, 1)\n",
    "testloss_graph = fig.add_subplot(1, 2, 2)\n",
    "trainloss_graph.set_xlabel('epoch')\n",
    "testloss_graph.set_ylabel('loss')\n",
    "trainloss_graph.set_xlabel('epoch')\n",
    "testloss_graph.set_ylabel('loss')\n",
    "\n",
    "for i in range(3):\n",
    "    \n",
    "    trainloss_graph.plot(epoch_list, train_loss_lists[i], label=optimizers[i])\n",
    "    trainloss_graph.legend()\n",
    "\n",
    "    testloss_graph.plot(epoch_list, test_loss_lists[i], label=[optimizers[i]])\n",
    "    testloss_graph.legend()\n",
    "\n",
    "plt.subplots_adjust(wspace=0.4, hspace=0.6)\n",
    "plt.savefig('nn_optimizer.png')"
   ]
  },
  {
   "cell_type": "code",
   "execution_count": null,
   "metadata": {},
   "outputs": [],
   "source": []
  }
 ],
 "metadata": {
  "kernelspec": {
   "display_name": "Python 3",
   "language": "python",
   "name": "python3"
  },
  "language_info": {
   "codemirror_mode": {
    "name": "ipython",
    "version": 3
   },
   "file_extension": ".py",
   "mimetype": "text/x-python",
   "name": "python",
   "nbconvert_exporter": "python",
   "pygments_lexer": "ipython3",
   "version": "3.6.9"
  }
 },
 "nbformat": 4,
 "nbformat_minor": 2
}

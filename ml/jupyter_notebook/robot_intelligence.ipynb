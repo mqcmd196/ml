{
 "cells": [
  {
   "cell_type": "markdown",
   "metadata": {},
   "source": [
    "ゼロから作るDeep Learning"
   ]
  },
  {
   "cell_type": "code",
   "execution_count": null,
   "metadata": {},
   "outputs": [],
   "source": [
    "import numpy as np"
   ]
  },
  {
   "cell_type": "code",
   "execution_count": null,
   "metadata": {},
   "outputs": [],
   "source": [
    "class Layer:\n",
    "    \"\"\"\n",
    "    入力，重み，定数項でワンセット\n",
    "    \"\"\"\n",
    "    def __init__(self, n_in, n_out, weight_random = True):\n",
    "        self.x = np.zeros(n_in)\n",
    "        self.b = np.zeros(n_out)\n",
    "        \n",
    "        if weight_random:\n",
    "            self.w = np.random.rand(n_in, n_out)\n",
    "        else:\n",
    "            self.w = np.zeros((n_in, n_out))\n",
    "        \n",
    "        self.y = np.dot(self.x, self.w) + self.b\n",
    "        \n",
    "    def update_output(self):\n",
    "        self.y = np.dot(self.x, self.w) + self.b\n",
    "        return self.y"
   ]
  },
  {
   "cell_type": "code",
   "execution_count": null,
   "metadata": {},
   "outputs": [],
   "source": []
  }
 ],
 "metadata": {
  "kernelspec": {
   "display_name": "Python 3",
   "language": "python",
   "name": "python3"
  },
  "language_info": {
   "codemirror_mode": {
    "name": "ipython",
    "version": 3
   },
   "file_extension": ".py",
   "mimetype": "text/x-python",
   "name": "python",
   "nbconvert_exporter": "python",
   "pygments_lexer": "ipython3",
   "version": "3.6.9"
  }
 },
 "nbformat": 4,
 "nbformat_minor": 2
}

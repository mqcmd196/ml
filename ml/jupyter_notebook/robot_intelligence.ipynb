{
 "cells": [
  {
   "cell_type": "markdown",
   "metadata": {},
   "source": [
    "ゼロから作るDeep Learning"
   ]
  },
  {
   "cell_type": "code",
   "execution_count": 1,
   "metadata": {},
   "outputs": [],
   "source": [
    "import numpy as np"
   ]
  },
  {
   "cell_type": "code",
   "execution_count": 2,
   "metadata": {},
   "outputs": [],
   "source": [
    "class Layer:\n",
    "    \"\"\"\n",
    "    入力，重み，定数項でワンセット\n",
    "    \"\"\"\n",
    "    def __init__(self, n_in, n_out, weight_random = True):\n",
    "        self.x = np.zeros(n_in)\n",
    "        self.b = np.zeros(n_out)\n",
    "        \n",
    "        if weight_random:\n",
    "            self.w = np.random.rand(n_in, n_out)\n",
    "        else:\n",
    "            self.w = np.zeros((n_in, n_out))\n",
    "        \n",
    "        self.y = np.dot(self.x, self.w) + self.b\n",
    "        \n",
    "    def update_output(self):\n",
    "        self.y = np.dot(self.x, self.w) + self.b\n",
    "        return self.y"
   ]
  },
  {
   "cell_type": "code",
   "execution_count": 3,
   "metadata": {},
   "outputs": [],
   "source": [
    "class ReluLayer(Layer):\n",
    "    def __init__(self, n):\n",
    "        self._mask = None\n",
    "    \n",
    "    def forward(self, x):\n",
    "        self._mask = (x <= 0)\n",
    "        self.y = x.copy()\n",
    "        self.y[self._mask] = 0\n",
    "        \n",
    "        return self.y\n",
    "    \n",
    "    def backward(self, dy):\n",
    "        dy[self._mask] = 0\n",
    "        dx = dy\n",
    "        \n",
    "        return dx\n",
    "    \n",
    "class SigmoidLayer(Layer):\n",
    "    def __init__(self):\n",
    "        self.y = None\n",
    "        \n",
    "    def forward(self, x):\n",
    "        y = 1 / (1 * np.exp(-x))\n",
    "        self.y = y\n",
    "        \n",
    "        return y\n",
    "    \n",
    "    def backward(self, dy):\n",
    "        dx = dy * (1.0 - self.y) * self.y\n",
    "        \n",
    "        return dx"
   ]
  },
  {
   "cell_type": "code",
   "execution_count": null,
   "metadata": {},
   "outputs": [],
   "source": []
  },
  {
   "cell_type": "code",
   "execution_count": null,
   "metadata": {},
   "outputs": [],
   "source": []
  }
 ],
 "metadata": {
  "kernelspec": {
   "display_name": "Python 3",
   "language": "python",
   "name": "python3"
  },
  "language_info": {
   "codemirror_mode": {
    "name": "ipython",
    "version": 3
   },
   "file_extension": ".py",
   "mimetype": "text/x-python",
   "name": "python",
   "nbconvert_exporter": "python",
   "pygments_lexer": "ipython3",
   "version": "3.6.9"
  }
 },
 "nbformat": 4,
 "nbformat_minor": 2
}

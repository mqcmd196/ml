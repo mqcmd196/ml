{
 "cells": [
  {
   "cell_type": "code",
   "execution_count": 1,
   "metadata": {
    "scrolled": true
   },
   "outputs": [],
   "source": [
    "from ml.nn import *\n",
    "from datasets.dataset import load_mnist\n",
    "import matplotlib.pyplot as plt"
   ]
  },
  {
   "cell_type": "code",
   "execution_count": 2,
   "metadata": {},
   "outputs": [],
   "source": [
    "(x_train, t_train), (x_test, t_test) = load_mnist(one_hot=False)"
   ]
  },
  {
   "cell_type": "code",
   "execution_count": 3,
   "metadata": {},
   "outputs": [],
   "source": [
    "img = np.reshape(x_train[1], (28, 28))"
   ]
  },
  {
   "cell_type": "code",
   "execution_count": 4,
   "metadata": {
    "scrolled": false
   },
   "outputs": [
    {
     "data": {
      "image/png": "[encoded data removed]",
      "text/plain": [
       "<Figure size 432x288 with 1 Axes>"
      ]
     },
     "metadata": {},
     "output_type": "display_data"
    }
   ],
   "source": [
    "plt.imshow(img, cmap=\"gray\")\n",
    "plt.show()"
   ]
  },
  {
   "cell_type": "code",
   "execution_count": 5,
   "metadata": {},
   "outputs": [],
   "source": [
    "input_size = 784\n",
    "output_size = 10\n",
    "middle_layer_size = 50\n",
    "lr = 0.0005\n",
    "optimizer = 'Adam'"
   ]
  },
  {
   "cell_type": "code",
   "execution_count": 6,
   "metadata": {},
   "outputs": [],
   "source": [
    "model = Sequential()\n",
    "model.addlayer(Linear(input_size, middle_layer_size, optimizer=optimizer, lr=lr))\n",
    "model.addlayer(ReLU(optimizer=optimizer, lr=lr))\n",
    "model.addlayer(Linear(middle_layer_size, middle_layer_size, optimizer=optimizer, lr=lr))\n",
    "model.addlayer(ReLU(optimizer=optimizer, lr=lr))\n",
    "model.addlayer(Linear(middle_layer_size, output_size, optimizer=optimizer, lr=lr))\n",
    "network = Classifier(model)"
   ]
  },
  {
   "cell_type": "code",
   "execution_count": 7,
   "metadata": {},
   "outputs": [],
   "source": [
    "batch_size = 100\n",
    "epoch = 10\n",
    "n_train = x_train.shape[0]\n",
    "n_test = x_test.shape[0]"
   ]
  },
  {
   "cell_type": "code",
   "execution_count": 8,
   "metadata": {},
   "outputs": [
    {
     "name": "stdout",
     "output_type": "stream",
     "text": [
      "epoch 0\n",
      "train, loss 0.299105, acc 0.890000\n",
      "test, loss 0.418593, acc 0.900000\n",
      "epoch 1\n",
      "train, loss 0.246664, acc 0.930000\n",
      "test, loss 0.386609, acc 0.900000\n",
      "epoch 2\n",
      "train, loss 0.231125, acc 0.950000\n",
      "test, loss 0.324190, acc 0.910000\n",
      "epoch 3\n",
      "train, loss 0.067930, acc 0.990000\n",
      "test, loss 0.309421, acc 0.910000\n",
      "epoch 4\n",
      "train, loss 0.138987, acc 0.960000\n",
      "test, loss 0.296366, acc 0.920000\n",
      "epoch 5\n",
      "train, loss 0.099863, acc 0.970000\n",
      "test, loss 0.266118, acc 0.940000\n",
      "epoch 6\n",
      "train, loss 0.227459, acc 0.960000\n",
      "test, loss 0.243745, acc 0.940000\n",
      "epoch 7\n",
      "train, loss 0.106460, acc 0.960000\n",
      "test, loss 0.220828, acc 0.950000\n",
      "epoch 8\n",
      "train, loss 0.162806, acc 0.940000\n",
      "test, loss 0.212559, acc 0.950000\n",
      "epoch 9\n",
      "train, loss 0.074377, acc 0.970000\n",
      "test, loss 0.212360, acc 0.950000\n"
     ]
    }
   ],
   "source": [
    "for e in range(epoch):\n",
    "    print('epoch %d'%e)\n",
    "    randinds = np.random.permutation(n_train)\n",
    "    for it in range(0, n_train, batch_size):\n",
    "        ind = randinds[it:it+batch_size]\n",
    "        x = x_train[ind]\n",
    "        t = t_train[ind]\n",
    "        loss, acc = network.update(x, t)\n",
    "    train_loss, train_acc = network.predict(x, t)\n",
    "    print('train, loss %f, acc %f'%(train_loss, train_acc))\n",
    "\n",
    "    acctest = 0\n",
    "    losstest = 0\n",
    "    for it in range(0, n_test, batch_size):\n",
    "        x = x_test[it:it+batch_size]\n",
    "        t = t_test[it:it+batch_size]\n",
    "        loss, acc = network.predict(x, t)\n",
    "        acctest += int(acc * batch_size)\n",
    "        losstest += loss\n",
    "    acctest /= (1.0 * n_test)\n",
    "    losstest /= (n_test // batch_size)\n",
    "    print('test, loss %f, acc %f'%(loss, acc))\n"
   ]
  },
  {
   "cell_type": "code",
   "execution_count": 11,
   "metadata": {},
   "outputs": [
    {
     "data": {
      "text/plain": [
       "(10000, 784)"
      ]
     },
     "execution_count": 11,
     "metadata": {},
     "output_type": "execute_result"
    }
   ],
   "source": [
    "x_test.shape"
   ]
  },
  {
   "cell_type": "code",
   "execution_count": null,
   "metadata": {},
   "outputs": [],
   "source": []
  }
 ],
 "metadata": {
  "kernelspec": {
   "display_name": "Python 3",
   "language": "python",
   "name": "python3"
  },
  "language_info": {
   "codemirror_mode": {
    "name": "ipython",
    "version": 3
   },
   "file_extension": ".py",
   "mimetype": "text/x-python",
   "name": "python",
   "nbconvert_exporter": "python",
   "pygments_lexer": "ipython3",
   "version": "3.6.9"
  }
 },
 "nbformat": 4,
 "nbformat_minor": 2
}

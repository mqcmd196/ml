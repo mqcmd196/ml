{
 "cells": [
  {
   "cell_type": "markdown",
   "metadata": {},
   "source": [
    "## ノイズ耐性2"
   ]
  },
  {
   "cell_type": "code",
   "execution_count": 1,
   "metadata": {},
   "outputs": [],
   "source": [
    "from ml.nn import *\n",
    "from datasets.dataset import load_mnist\n",
    "import matplotlib.pyplot as plt\n",
    "import numpy as np\n",
    "from numpy.random import *"
   ]
  },
  {
   "cell_type": "code",
   "execution_count": 2,
   "metadata": {},
   "outputs": [],
   "source": [
    "(x_train, t_train), (x_test, t_test) = load_mnist(one_hot=False)"
   ]
  },
  {
   "cell_type": "code",
   "execution_count": 3,
   "metadata": {},
   "outputs": [],
   "source": [
    "# rateだけノイズを加える関数\n",
    "def add_noise(data, rate):\n",
    "    n_noise = int(data.shape[1] * rate)\n",
    "    pixel = np.arange(0, data.shape[1], 1)\n",
    "    for d in data:\n",
    "        target_pixel = np.random.choice(pixel, n_noise, replace=False)\n",
    "        for i in target_pixel:\n",
    "            d[i] = np.random.rand()\n",
    "    return data"
   ]
  },
  {
   "cell_type": "code",
   "execution_count": 4,
   "metadata": {},
   "outputs": [],
   "source": [
    "# 25%のノイズを加える\n",
    "noised_x_train = add_noise(x_train, 0.25)\n",
    "noised_x_test = add_noise(x_test, 0.25)"
   ]
  },
  {
   "cell_type": "markdown",
   "metadata": {},
   "source": [
    "#### ニューロン数"
   ]
  },
  {
   "cell_type": "code",
   "execution_count": 5,
   "metadata": {},
   "outputs": [],
   "source": [
    "input_size = 784\n",
    "output_size = 10\n",
    "lr = 0.001\n",
    "optimizer = 'Adam'"
   ]
  },
  {
   "cell_type": "code",
   "execution_count": 6,
   "metadata": {},
   "outputs": [],
   "source": [
    "models = []\n",
    "networks = []\n",
    "middle_layer_sizes = [25, 50, 75, 100, 125, 150]"
   ]
  },
  {
   "cell_type": "code",
   "execution_count": 7,
   "metadata": {},
   "outputs": [],
   "source": [
    "for i in range(6):\n",
    "    middle_layer_size = middle_layer_sizes[i]\n",
    "    model = Sequential()\n",
    "    model.addlayer(Linear(input_size, middle_layer_size, optimizer=optimizer, lr=lr))\n",
    "    model.addlayer(ReLU(optimizer=optimizer, lr=lr))\n",
    "    model.addlayer(Linear(middle_layer_size, middle_layer_size, optimizer=optimizer, lr=lr))\n",
    "    model.addlayer(ReLU(optimizer=optimizer, lr=lr))\n",
    "    model.addlayer(Linear(middle_layer_size, output_size, optimizer=optimizer, lr=lr))\n",
    "    network = Classifier(model)\n",
    "    networks.append(network)"
   ]
  },
  {
   "cell_type": "code",
   "execution_count": 8,
   "metadata": {},
   "outputs": [
    {
     "data": {
      "text/plain": [
       "<ml.nn.Sequential at 0x7f672dd56048>"
      ]
     },
     "execution_count": 8,
     "metadata": {},
     "output_type": "execute_result"
    }
   ],
   "source": [
    "networks[0].model"
   ]
  },
  {
   "cell_type": "code",
   "execution_count": 9,
   "metadata": {},
   "outputs": [],
   "source": [
    "batch_size = 100\n",
    "epoch = 15\n",
    "n_train = x_train.shape[0]\n",
    "n_test = x_test.shape[0]"
   ]
  },
  {
   "cell_type": "code",
   "execution_count": 10,
   "metadata": {},
   "outputs": [],
   "source": [
    "train_loss_list = []\n",
    "train_acc_list = []\n",
    "test_loss_list = []\n",
    "test_acc_list = []"
   ]
  },
  {
   "cell_type": "code",
   "execution_count": 11,
   "metadata": {
    "scrolled": true
   },
   "outputs": [],
   "source": [
    "for i in range(6):\n",
    "    for e in range(epoch):\n",
    "        acctrain = 0\n",
    "        losstrain = 0\n",
    "        randinds = np.random.permutation(n_train)\n",
    "        for it in range(0, n_train, batch_size):\n",
    "            ind = randinds[it:it+batch_size]\n",
    "            x = noised_x_train[ind]\n",
    "            t = t_train[ind]\n",
    "            loss, acc = networks[i].update(x, t)\n",
    "            acctrain += int(acc * batch_size) \n",
    "            losstrain += loss\n",
    "        acctrain /= (1.0 * n_train)\n",
    "        losstrain /= (n_train // batch_size)\n",
    "\n",
    "        acctest = 0\n",
    "        losstest = 0\n",
    "        for it in range(0, n_test, batch_size):\n",
    "            x = noised_x_test[it:it+batch_size]\n",
    "            t = t_test[it:it+batch_size]\n",
    "            loss, acc = networks[i].predict(x, t)\n",
    "            acctest += int(acc * batch_size)\n",
    "            losstest += loss\n",
    "        acctest /= (1.0 * n_test)\n",
    "        losstest /= (n_test // batch_size)\n",
    "\n",
    "    train_loss_list.append(losstrain)\n",
    "    train_acc_list.append(acctrain)\n",
    "    test_loss_list.append(losstest)\n",
    "    test_acc_list.append(acctest)"
   ]
  },
  {
   "cell_type": "code",
   "execution_count": 13,
   "metadata": {
    "scrolled": true
   },
   "outputs": [
    {
     "data": {
      "image/png": "[encoded data removed]",
      "text/plain": [
       "<Figure size 720x288 with 2 Axes>"
      ]
     },
     "metadata": {},
     "output_type": "display_data"
    }
   ],
   "source": [
    "fig = plt.figure(figsize=(10, 4))\n",
    "loss_graph = fig.add_subplot(1, 2, 1)\n",
    "acc_graph = fig.add_subplot(1, 2, 2)\n",
    "loss_graph.set_xlabel('number of hidden neurons')\n",
    "loss_graph.set_ylabel('loss')\n",
    "acc_graph.set_xlabel('number of hidden neurons')\n",
    "acc_graph.set_ylabel('accuracy')\n",
    "\n",
    "loss_graph.plot(middle_layer_sizes, train_loss_list, label='train')\n",
    "loss_graph.plot(middle_layer_sizes, test_loss_list, label='test')\n",
    "loss_graph.legend()\n",
    "\n",
    "acc_graph.plot(middle_layer_sizes, train_acc_list, label='train')\n",
    "acc_graph.plot(middle_layer_sizes, test_acc_list, label='test')\n",
    "acc_graph.legend()\n",
    "\n",
    "plt.subplots_adjust(wspace=0.4, hspace=0.6)\n",
    "plt.savefig('nn_noise_neuron.png')"
   ]
  },
  {
   "cell_type": "markdown",
   "metadata": {},
   "source": [
    "#### 学習係数"
   ]
  },
  {
   "cell_type": "code",
   "execution_count": 14,
   "metadata": {},
   "outputs": [],
   "source": [
    "input_size = 784\n",
    "output_size = 10\n",
    "middle_layer_size = 50\n",
    "optimizer = 'Adam'"
   ]
  },
  {
   "cell_type": "code",
   "execution_count": 15,
   "metadata": {},
   "outputs": [],
   "source": [
    "models = []\n",
    "networks = []\n",
    "lrs = [0.1, 0.01, 0.001, 0.0001, 0.00001]"
   ]
  },
  {
   "cell_type": "code",
   "execution_count": 16,
   "metadata": {},
   "outputs": [],
   "source": [
    "for i in range(5):\n",
    "    lr = lrs[i]\n",
    "    model = Sequential()\n",
    "    model.addlayer(Linear(input_size, middle_layer_size, optimizer=optimizer, lr=lr))\n",
    "    model.addlayer(ReLU(optimizer=optimizer, lr=lr))\n",
    "    model.addlayer(Linear(middle_layer_size, middle_layer_size, optimizer=optimizer, lr=lr))\n",
    "    model.addlayer(ReLU(optimizer=optimizer, lr=lr))\n",
    "    model.addlayer(Linear(middle_layer_size, output_size, optimizer=optimizer, lr=lr))\n",
    "    network = Classifier(model)\n",
    "    networks.append(network)"
   ]
  },
  {
   "cell_type": "code",
   "execution_count": 17,
   "metadata": {},
   "outputs": [],
   "source": [
    "batch_size = 100\n",
    "epoch = 15\n",
    "n_train = x_train.shape[0]\n",
    "n_test = x_test.shape[0]\n",
    "train_loss_list = []\n",
    "train_acc_list = []\n",
    "test_loss_list = []\n",
    "test_acc_list = []"
   ]
  },
  {
   "cell_type": "code",
   "execution_count": 18,
   "metadata": {},
   "outputs": [
    {
     "name": "stderr",
     "output_type": "stream",
     "text": [
      "/home/mech-user/Documents/ml/ml/nn.py:53: UserWarning: The lr value is too big.\n",
      "  warnings.warn(\"The lr value is too big.\")\n"
     ]
    }
   ],
   "source": [
    "for i in range(5):\n",
    "    for e in range(epoch):\n",
    "        acctrain = 0\n",
    "        losstrain = 0\n",
    "        randinds = np.random.permutation(n_train)\n",
    "        for it in range(0, n_train, batch_size):\n",
    "            ind = randinds[it:it+batch_size]\n",
    "            x = noised_x_train[ind]\n",
    "            t = t_train[ind]\n",
    "            loss, acc = networks[i].update(x, t)\n",
    "            acctrain += int(acc * batch_size) \n",
    "            losstrain += loss\n",
    "        acctrain /= (1.0 * n_train)\n",
    "        losstrain /= (n_train // batch_size)\n",
    "\n",
    "        acctest = 0\n",
    "        losstest = 0\n",
    "        for it in range(0, n_test, batch_size):\n",
    "            x = noised_x_test[it:it+batch_size]\n",
    "            t = t_test[it:it+batch_size]\n",
    "            loss, acc = networks[i].predict(x, t)\n",
    "            acctest += int(acc * batch_size)\n",
    "            losstest += loss\n",
    "        acctest /= (1.0 * n_test)\n",
    "        losstest /= (n_test // batch_size)\n",
    "\n",
    "    train_loss_list.append(losstrain)\n",
    "    train_acc_list.append(acctrain)\n",
    "    test_loss_list.append(losstest)\n",
    "    test_acc_list.append(acctest)"
   ]
  },
  {
   "cell_type": "code",
   "execution_count": 19,
   "metadata": {
    "scrolled": false
   },
   "outputs": [
    {
     "data": {
      "image/png": "[encoded data removed]",
      "text/plain": [
       "<Figure size 720x288 with 2 Axes>"
      ]
     },
     "metadata": {},
     "output_type": "display_data"
    }
   ],
   "source": [
    "fig = plt.figure(figsize=(10, 4))\n",
    "\n",
    "loss_graph = fig.add_subplot(1, 2, 1)\n",
    "acc_graph = fig.add_subplot(1, 2, 2)\n",
    "loss_graph.set_xlabel('lr')\n",
    "loss_graph.set_ylabel('loss')\n",
    "acc_graph.set_xlabel('lr')\n",
    "acc_graph.set_ylabel('accuracy')\n",
    "\n",
    "loss_graph.plot(lrs, train_loss_list, label='train')\n",
    "loss_graph.plot(lrs, test_loss_list, label='test')\n",
    "loss_graph.set_xscale('log')\n",
    "loss_graph.legend()\n",
    "\n",
    "acc_graph.plot(lrs, train_acc_list, label='train')\n",
    "acc_graph.plot(lrs, test_acc_list, label='test')\n",
    "acc_graph.set_xscale('log')\n",
    "acc_graph.legend()\n",
    "\n",
    "plt.subplots_adjust(wspace=0.4, hspace=0.6)\n",
    "plt.savefig('nn_noise_lr.png')"
   ]
  },
  {
   "cell_type": "markdown",
   "metadata": {},
   "source": [
    "#### 学習係数対照実験"
   ]
  },
  {
   "cell_type": "code",
   "execution_count": 20,
   "metadata": {},
   "outputs": [],
   "source": [
    "input_size = 784\n",
    "output_size = 10\n",
    "middle_layer_size = 50\n",
    "optimizer = 'Adam'"
   ]
  },
  {
   "cell_type": "code",
   "execution_count": 21,
   "metadata": {},
   "outputs": [],
   "source": [
    "models = []\n",
    "networks = []\n",
    "lrs = [0.1, 0.01, 0.001, 0.0001, 0.00001]"
   ]
  },
  {
   "cell_type": "code",
   "execution_count": 22,
   "metadata": {},
   "outputs": [],
   "source": [
    "for i in range(5):\n",
    "    lr = lrs[i]\n",
    "    model = Sequential()\n",
    "    model.addlayer(Linear(input_size, middle_layer_size, optimizer=optimizer, lr=lr))\n",
    "    model.addlayer(ReLU(optimizer=optimizer, lr=lr))\n",
    "    model.addlayer(Linear(middle_layer_size, middle_layer_size, optimizer=optimizer, lr=lr))\n",
    "    model.addlayer(ReLU(optimizer=optimizer, lr=lr))\n",
    "    model.addlayer(Linear(middle_layer_size, output_size, optimizer=optimizer, lr=lr))\n",
    "    network = Classifier(model)\n",
    "    networks.append(network)"
   ]
  },
  {
   "cell_type": "code",
   "execution_count": 23,
   "metadata": {},
   "outputs": [],
   "source": [
    "batch_size = 100\n",
    "epoch = 15\n",
    "n_train = x_train.shape[0]\n",
    "n_test = x_test.shape[0]\n",
    "train_loss_list = []\n",
    "train_acc_list = []\n",
    "test_loss_list = []\n",
    "test_acc_list = []"
   ]
  },
  {
   "cell_type": "code",
   "execution_count": 24,
   "metadata": {},
   "outputs": [
    {
     "name": "stderr",
     "output_type": "stream",
     "text": [
      "/home/mech-user/Documents/ml/ml/nn.py:53: UserWarning: The lr value is too big.\n",
      "  warnings.warn(\"The lr value is too big.\")\n"
     ]
    }
   ],
   "source": [
    "for i in range(5):\n",
    "    for e in range(epoch):\n",
    "        acctrain = 0\n",
    "        losstrain = 0\n",
    "        randinds = np.random.permutation(n_train)\n",
    "        for it in range(0, n_train, batch_size):\n",
    "            ind = randinds[it:it+batch_size]\n",
    "            x = x_train[ind]\n",
    "            t = t_train[ind]\n",
    "            loss, acc = networks[i].update(x, t)\n",
    "            acctrain += int(acc * batch_size) \n",
    "            losstrain += loss\n",
    "        acctrain /= (1.0 * n_train)\n",
    "        losstrain /= (n_train // batch_size)\n",
    "\n",
    "        acctest = 0\n",
    "        losstest = 0\n",
    "        for it in range(0, n_test, batch_size):\n",
    "            x = x_test[it:it+batch_size]\n",
    "            t = t_test[it:it+batch_size]\n",
    "            loss, acc = networks[i].predict(x, t)\n",
    "            acctest += int(acc * batch_size)\n",
    "            losstest += loss\n",
    "        acctest /= (1.0 * n_test)\n",
    "        losstest /= (n_test // batch_size)\n",
    "\n",
    "    train_loss_list.append(losstrain)\n",
    "    train_acc_list.append(acctrain)\n",
    "    test_loss_list.append(losstest)\n",
    "    test_acc_list.append(acctest)"
   ]
  },
  {
   "cell_type": "code",
   "execution_count": 25,
   "metadata": {
    "scrolled": true
   },
   "outputs": [
    {
     "data": {
      "image/png": "[encoded data removed]",
      "text/plain": [
       "<Figure size 720x288 with 2 Axes>"
      ]
     },
     "metadata": {},
     "output_type": "display_data"
    }
   ],
   "source": [
    "fig = plt.figure(figsize=(10, 4))\n",
    "\n",
    "loss_graph = fig.add_subplot(1, 2, 1)\n",
    "acc_graph = fig.add_subplot(1, 2, 2)\n",
    "loss_graph.set_xlabel('lr')\n",
    "loss_graph.set_ylabel('loss')\n",
    "acc_graph.set_xlabel('lr')\n",
    "acc_graph.set_ylabel('accuracy')\n",
    "\n",
    "loss_graph.plot(lrs, train_loss_list, label='train')\n",
    "loss_graph.plot(lrs, test_loss_list, label='test')\n",
    "loss_graph.set_xscale('log')\n",
    "loss_graph.legend()\n",
    "\n",
    "acc_graph.plot(lrs, train_acc_list, label='train')\n",
    "acc_graph.plot(lrs, test_acc_list, label='test')\n",
    "acc_graph.set_xscale('log')\n",
    "acc_graph.legend()\n",
    "\n",
    "plt.subplots_adjust(wspace=0.4, hspace=0.6)\n",
    "plt.savefig('nn_lr.png')"
   ]
  },
  {
   "cell_type": "code",
   "execution_count": null,
   "metadata": {},
   "outputs": [],
   "source": []
  }
 ],
 "metadata": {
  "kernelspec": {
   "display_name": "Python 3",
   "language": "python",
   "name": "python3"
  },
  "language_info": {
   "codemirror_mode": {
    "name": "ipython",
    "version": 3
   },
   "file_extension": ".py",
   "mimetype": "text/x-python",
   "name": "python",
   "nbconvert_exporter": "python",
   "pygments_lexer": "ipython3",
   "version": "3.6.9"
  }
 },
 "nbformat": 4,
 "nbformat_minor": 2
}
